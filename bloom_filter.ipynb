{
 "cells": [
  {
   "cell_type": "markdown",
   "metadata": {},
   "source": [
    "The goal of this notebook is to create a bloom filter on movie genres.\\\n",
    "The idea of this filter is to set a genre, for example \"western\" and be able to process all the movies in the list using the bloom filter to say whether or not they are westerns."
   ]
  },
  {
   "cell_type": "code",
   "execution_count": 1,
   "metadata": {},
   "outputs": [],
   "source": [
    "# Import the needed modules as always\n",
    "import csv\n",
    "import mmh3\n",
    "# We will be using the bitarray module for the bloom filter because of the way Python handles lists\n",
    "# Elements of a Python list are objects and are therefore way larger than the bits we need to store\n",
    "from bitarray import bitarray"
   ]
  },
  {
   "cell_type": "code",
   "execution_count": 2,
   "metadata": {},
   "outputs": [],
   "source": [
    "# Let's first define the bloom filter class since we have to re implement it from scratch\n",
    "class BloomFilter:\n",
    "    # The main parameters of a bloom filter are : the size of the bitmap and the number of hash functions used\n",
    "    def __init__(self, bitmap_size, hash_count):\n",
    "        self.size = bitmap_size\n",
    "        self.hash_count = hash_count\n",
    "        # Initialize the bitarray and initalize eveyrthing to 0\n",
    "        self.bit_array = bitarray(bitmap_size)\n",
    "        self.bit_array.setall(0)\n",
    "\n",
    "    # To add a value to the filter, we have to hash it multiple times and set the corresponding bits to 1\n",
    "    # Therefore we need to implement a hash function : in that case the hash function will directly return an array of all the indices to be set to 1\n",
    "    def _hashes(self, value):\n",
    "        hash_results = []\n",
    "        for i in range(self.hash_count):\n",
    "            # Once again we use the mmh3 hash function (here with 64 bits output) since it is faster than SHA\n",
    "            # We then take the modulo of the hash value to make sure it fits in the bitmap\n",
    "            hash_result = mmh3.hash64(value, i) % self.size\n",
    "            hash_results.append(hash_result)\n",
    "        return hash_results\n",
    "\n",
    "    # Adding a value to the filter is nothing but setting all the bits corresponding to the hash values to 1\n",
    "    def add(self, value):\n",
    "        for hash_val in self._hashes(value):\n",
    "            self.bit_array[hash_val] = 1\n",
    "\n",
    "    # Fianlly we need a function to \"query\" the filter, i.e. check if a value is in the filter\n",
    "    # To do this we need to check if all the bits corresponding to the hash values are 1\n",
    "    def query(self, value):\n",
    "        # We use the built in all() function that returns True if all the elements in the list in argument are True,\n",
    "        # and list comprehension to have a one liner for the check\n",
    "        return all(self.bit_array[hash_val] for hash_val in self._hashes(value))"
   ]
  },
  {
   "cell_type": "markdown",
   "metadata": {},
   "source": [
    "Now that we have defined the Bloom filter class, we can use it to our heart's contempt to filter what we want."
   ]
  }
 ],
 "metadata": {
  "kernelspec": {
   "display_name": "venv",
   "language": "python",
   "name": "python3"
  },
  "language_info": {
   "codemirror_mode": {
    "name": "ipython",
    "version": 3
   },
   "file_extension": ".py",
   "mimetype": "text/x-python",
   "name": "python",
   "nbconvert_exporter": "python",
   "pygments_lexer": "ipython3",
   "version": "3.11.5"
  }
 },
 "nbformat": 4,
 "nbformat_minor": 2
}
